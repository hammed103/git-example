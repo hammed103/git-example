{
 "cells": [
  {
   "cell_type": "markdown",
   "metadata": {},
   "source": [
    "### A. Introduction\n",
    "####    A.1. Description & Disscusion of the Background\n",
    "\n",
    "\n",
    "<br>\n",
    "<p> Surulere is a residential and commercial Local Government Area located on the mainland of Lagos in Lagos State, Nigeria, with an area of 23 km². At the last census in the year 2006, there were 503,975 inhabitants, with a population density of 21,864 inhabitants per square kilometer. The local government area is bordered by Yaba, Mushin and Ebute-Metta.<sup>1</sup> Surulere is often touted as being the centre of lagos .</p>\n",
    "\n",
    "What makes surulere lively is due to it's incongrous mixture in many ramifications. It boasts a  a fine blend between commercial and residential activities, a motley of upscale neighborhoods as well as midrange and even lowscale localities.it is home to a  mix of upscale cocktail bars, pulsing clubs, and laid-back beer parlors.\n",
    "\n",
    "Like every city in Nigeria, Surulere is also plagued with epileptic power supply affecting small scale and big businesses alike , and is a major concern for both residential and commercial stakeholders in the city. Electricity shortages often mean residents resort to their petrol/diesel powered generator having to put up with the high blaring noise and it's detrimental effect on the environment especially at night when it is common to have as much as 100 generator within an 100m radius. companies spend upto  a shocking 70% of the budget on diesel or petrol<sup>2</sup>. \n",
    "\n",
    "There seems to be some hope for residents with the proposed partnership of renewable energy companies with  power distribution companies to provide alternative energy for consumers during power outage hours via an interconnected minigrid these  mini-grid will leverage on existing distribution infrastructure to achieve lower system cost than isolated mini-grid while improving service reliability from the status quo.\n",
    "\n",
    "A mini grid, also sometimes referred to as a \"micro grid or isolated grid\", can be defined as a set of electricity generators and possibly energy storage systems interconnected to a distribution network that supplies electricity to a localized group of customers.\"They involve small-scale electricity generation (10 kW to 10MW) which serves a limited number of consumers via a distribution grid that can operate in isolation from national electricity transmission networks.\"<sup>3</sup>\n",
    "\n",
    "“These systems can help DisCos reduce losses to serve these communities (by N1–2 billion per DisCo per year) and create a mini-grid market with N400 billion in annual revenue, all while saving customers ₦60 billion per year compared to what they spend today,”<sup>4</sup>. Mini Grids provide an enhanced service where there are epileptic power supply in urban areas too especially within the healthcare, higher education, government, businesses and the military base.\n",
    "\n",
    "The aim of this project is to develop a clustering  model for the distribution of  mini-grids around surulere .Based on the nature of minigrids to serve only a limited number of customers , it is important for stakeholders to have an idea of the size requirements of each mini-grids that should be deployed to each locale . Considering the incongrous mixture commercial,industrial and residential venues within surulere we can create a map that  that categorises the needs of each locale into a few clusters as well as an information chart about the types of business found within each locale  for easy visualization and better decision making.\n",
    "\n"
   ]
  },
  {
   "cell_type": "markdown",
   "metadata": {},
   "source": []
  },
  {
   "cell_type": "code",
   "execution_count": null,
   "metadata": {},
   "outputs": [],
   "source": []
  }
 ],
 "metadata": {
  "kernelspec": {
   "display_name": "Python 3",
   "language": "python",
   "name": "python3"
  },
  "language_info": {
   "codemirror_mode": {
    "name": "ipython",
    "version": 3
   },
   "file_extension": ".py",
   "mimetype": "text/x-python",
   "name": "python",
   "nbconvert_exporter": "python",
   "pygments_lexer": "ipython3",
   "version": "3.7.4"
  }
 },
 "nbformat": 4,
 "nbformat_minor": 2
}
